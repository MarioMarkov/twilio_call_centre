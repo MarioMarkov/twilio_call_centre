{
 "cells": [
  {
   "cell_type": "code",
   "execution_count": 4,
   "metadata": {},
   "outputs": [
    {
     "name": "stdout",
     "output_type": "stream",
     "text": [
      "Chunks:  18\n"
     ]
    }
   ],
   "source": [
    "import os\n",
    "from dotenv import load_dotenv\n",
    "from langchain_community.document_loaders import TextLoader\n",
    "from langchain_openai import OpenAIEmbeddings\n",
    "from langchain_openai import ChatOpenAI\n",
    "from langchain_community.vectorstores import FAISS\n",
    "from langchain.text_splitter import CharacterTextSplitter,RecursiveCharacterTextSplitter\n",
    "\n",
    "load_dotenv()\n",
    "api_key  = os.getenv(\"OPENAI_API_KEY\")\n",
    "\n",
    "# current_dir = os.path.dirname( os.getcwd() )\n",
    "# print(\"Dir:\", current_dir)\n",
    "\n",
    "# Loading knowledge retriever\n",
    "loader = TextLoader(\"retrieval/returning.txt\", encoding=\"UTF-8\")\n",
    "data = loader.load()\n",
    "# text_splitter = CharacterTextSplitter(\n",
    "#     separator=\"\\n\\n\",\n",
    "#     chunk_size=300,\n",
    "#     length_function=len\n",
    "# )\n",
    "\n",
    "text_splitter = RecursiveCharacterTextSplitter(\n",
    "chunk_size=1000, chunk_overlap=0, separators=[\" \", \",\", \"\\n\"]\n",
    ")\n",
    "docs = text_splitter.split_documents(data)\n",
    "print(\"Chunks: \", len(docs))\n",
    "embedings_model = OpenAIEmbeddings(model = \"text-embedding-3-small\")\n",
    "\n",
    "db = FAISS.from_documents(docs,embedings_model)\n",
    "retriever = db.as_retriever(search_kwargs={\"k\": 1})\n",
    "\n",
    "from langchain.agents.agent_toolkits import create_retriever_tool\n",
    "\n",
    "retriever_tool = create_retriever_tool(\n",
    "    retriever,\n",
    "    \"emag_return_policies\",\n",
    "    \"Searches and returns information about return questions for Emag.\",\n",
    ")\n",
    "tools = [retriever_tool]\n",
    "\n",
    "\n",
    "llm = ChatOpenAI(model=\"gpt-3.5-turbo\",temperature=0,streaming=True)\n",
    "\n",
    "\n",
    "# Define prompt\n",
    "from langchain.prompts import MessagesPlaceholder\n",
    "from langchain.schema.messages import SystemMessage\n",
    "\n",
    "system_message = SystemMessage(\n",
    "    content=(\n",
    "        \"\"\"You are a customer support bot for a bulgarian e-commerce store called EMAG .\"\n",
    "            You give help to questions regarding the return of items to emag.\n",
    "            Answer the questions only based on your knowledge and do not in any case make up information.\n",
    "            Answer the questions briefly and summarize your information.\n",
    "            Say maximum 3 sentances per answer\n",
    "            Аnswer the questions in bulgarian.\n",
    "            Only answer based on your context.\n",
    "            Answer briefly!\"\"\"\n",
    "    )\n",
    ")\n",
    "\n",
    "\n",
    "from langchain.agents.openai_functions_agent.base import OpenAIFunctionsAgent\n",
    "memory_key = \"chat_history\"\n",
    "prompt = OpenAIFunctionsAgent.create_prompt(\n",
    "    system_message=system_message,\n",
    "    extra_prompt_messages=[MessagesPlaceholder(variable_name=memory_key)],\n",
    ")\n",
    "\n",
    "# Define final Agent \n",
    "from langchain.agents import create_openai_functions_agent\n",
    "\n",
    "#agent = OpenAIFunctionsAgent(llm=llm, tools=tools, prompt=prompt)\n",
    "agent = create_openai_functions_agent(llm, tools, prompt)\n",
    "\n",
    "from langchain.agents import AgentExecutor\n",
    "agent_executor = AgentExecutor(\n",
    "    agent=agent,\n",
    "    tools=tools,\n",
    "    return_intermediate_steps=False,\n",
    "    verbose=True\n",
    ")\n",
    "\n",
    "\n",
    "from langchain_community.chat_message_histories import ChatMessageHistory\n",
    "from langchain_core.runnables.history import RunnableWithMessageHistory\n",
    "message_history = ChatMessageHistory()\n",
    "message_history.clear()\n",
    "\n",
    "agent_with_chat_history = RunnableWithMessageHistory(\n",
    "    agent_executor,\n",
    "    lambda session_id: message_history,\n",
    "    input_messages_key=\"input\",\n",
    "    history_messages_key=memory_key,\n",
    ")\n",
    "\n"
   ]
  },
  {
   "cell_type": "code",
   "execution_count": 5,
   "metadata": {},
   "outputs": [
    {
     "name": "stdout",
     "output_type": "stream",
     "text": [
      "\n",
      "\n",
      "\u001b[1m> Entering new AgentExecutor chain...\u001b[0m\n",
      "\u001b[32;1m\u001b[1;3m\n",
      "Invoking: `emag_return_policies` with `{'query': 'връщане на продукт'}`\n",
      "\n",
      "\n",
      "\u001b[0m\u001b[36;1m\u001b[1;3mпродукта в първоначалното му състояние от гледна точка на софтуера;\n",
      "       Не можеш да върнеш продукта, ако е с активиран OEM лиценз, или ако оперативните системи или други програми, с които е бил доставен продукта са деинсталирани;\n",
      "       Можеш да върнеш защитните фолиа за таблети и телефони само ако не са използвани;\n",
      "Принтери, скенери, консумативи\n",
      "        Не могат да бъдат върнати принтери или мултифункционални устройства, чиито консумативи са били разпечатани;\n",
      "        Могат да бъдат върнати консумативи като батерии, касети за принтер, аксесоари и офис консумативи, само ако са запечатани;\n",
      "Продукти от категорията Мода\n",
      " Ако желаеш да върнеш продукт от тази категория, опиши ситуацията в полето за забележки и избери желаната от теб опция във Формуляра за връщане;\n",
      "\n",
      "Избери една от опциите за връщане: възстановяване на заплатената сума или ваучер, който може да бъде използван за нова поръчка – замяна със същия модел.При връщане, продуктът трябва да е в същото състояние, като при\u001b[0m\u001b[32;1m\u001b[1;3mЗа да върнете продукт, трябва да го върнете в първоначалното му състояние и да не е активиран OEM лиценз. Защитните фолиа за таблети и телефони могат да бъдат върнати само ако не са използвани. Принтери и консумативи могат да бъдат върнати само ако са в запечатано състояние.\u001b[0m\n",
      "\n",
      "\u001b[1m> Finished chain.\u001b[0m\n"
     ]
    },
    {
     "data": {
      "text/plain": [
       "'За да върнете продукт, трябва да го върнете в първоначалното му състояние и да не е активиран OEM лиценз. Защитните фолиа за таблети и телефони могат да бъдат върнати само ако не са използвани. Принтери и консумативи могат да бъдат върнати само ако са в запечатано състояние.'"
      ]
     },
     "execution_count": 5,
     "metadata": {},
     "output_type": "execute_result"
    }
   ],
   "source": [
    "agent_with_chat_history.invoke({'input': 'Здравейте как да върна продукт?'}, {'configurable': {'session_id': 'asd'}})['output']"
   ]
  }
 ],
 "metadata": {
  "kernelspec": {
   "display_name": "openai",
   "language": "python",
   "name": "python3"
  },
  "language_info": {
   "codemirror_mode": {
    "name": "ipython",
    "version": 3
   },
   "file_extension": ".py",
   "mimetype": "text/x-python",
   "name": "python",
   "nbconvert_exporter": "python",
   "pygments_lexer": "ipython3",
   "version": "3.11.5"
  }
 },
 "nbformat": 4,
 "nbformat_minor": 2
}
