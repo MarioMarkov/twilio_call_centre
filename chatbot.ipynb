{
 "cells": [
  {
   "cell_type": "code",
   "execution_count": 6,
   "metadata": {},
   "outputs": [
    {
     "name": "stderr",
     "output_type": "stream",
     "text": [
      "Created a chunk of size 422, which is longer than the specified 300\n",
      "Created a chunk of size 406, which is longer than the specified 300\n",
      "Created a chunk of size 393, which is longer than the specified 300\n",
      "Created a chunk of size 639, which is longer than the specified 300\n",
      "Created a chunk of size 689, which is longer than the specified 300\n"
     ]
    },
    {
     "name": "stdout",
     "output_type": "stream",
     "text": [
      "Chunks:  11\n"
     ]
    }
   ],
   "source": [
    "import os\n",
    "from dotenv import load_dotenv\n",
    "from langchain_community.document_loaders import TextLoader\n",
    "from langchain_openai import OpenAIEmbeddings\n",
    "from langchain_openai import ChatOpenAI\n",
    "from langchain_community.vectorstores import FAISS\n",
    "from langchain.text_splitter import CharacterTextSplitter\n",
    "\n",
    "load_dotenv()\n",
    "api_key  = os.getenv(\"OPENAI_API_KEY\")\n",
    "\n",
    "# current_dir = os.path.dirname( os.getcwd() )\n",
    "# print(\"Dir:\", current_dir)\n",
    "\n",
    "# Loading knowledge retriever\n",
    "loader = TextLoader(\"a1.txt\", encoding=\"UTF-8\")\n",
    "data = loader.load()\n",
    "text_splitter = CharacterTextSplitter(\n",
    "    separator=\"\\n\\n\",\n",
    "    chunk_size=300,\n",
    "    length_function=len\n",
    ")\n",
    "docs = text_splitter.split_documents(data)\n",
    "print(\"Chunks: \", len(docs))\n",
    "embedings_model = OpenAIEmbeddings()\n",
    "\n",
    "db = FAISS.from_documents(docs,embedings_model)\n",
    "retriever = db.as_retriever(search_kwargs={\"k\": 1})\n",
    "\n",
    "from langchain.agents.agent_toolkits import create_retriever_tool\n",
    "\n",
    "retriever_tool = create_retriever_tool(\n",
    "    retriever,\n",
    "    \"a1_insurance_knowledge\",\n",
    "    \"Searches and returns info about A1 insurance.\",\n",
    ")\n",
    "tools = [retriever_tool]\n",
    "\n",
    "\n",
    "llm = ChatOpenAI(model=\"gpt-3.5-turbo\",temperature=0,streaming=True)\n",
    "\n",
    "\n",
    "# Define prompt\n",
    "from langchain.prompts import MessagesPlaceholder\n",
    "from langchain.schema.messages import SystemMessage\n",
    "\n",
    "system_message = SystemMessage(\n",
    "    content=(\n",
    "        \"\"\"You are a sales bot for an insurance company called A1.\"\n",
    "            1. Initialize the conversation by introducing yourself and asking if the name of the user is Ivan.\n",
    "            2. Аsk him if he wants to know more about a special offer for him.\n",
    "            3. If the user says yes, give the text for the home insurance offer.\n",
    "            4. Ask if the user has already made a home insurance.\n",
    "            5. If the user hasn't already made a home insurance, give more details about the offer.\n",
    "            6. Ask the user if he wants to take the offer.\n",
    "\n",
    "            Follow these steps without skipping.\n",
    "            Give the details to the offer only when you previously asked if the user have already made a home insurance.    \n",
    "            Answer correctly if the user has any additional questions.\n",
    "\n",
    "            Ask and answer the questions in bulgarian.\n",
    "            Feel free to use any tools available to look up relevant information, only if necessary.\n",
    "            Answer briefly!\"\"\"\n",
    "    )\n",
    ")\n",
    "\n",
    "\n",
    "from langchain.agents.openai_functions_agent.base import OpenAIFunctionsAgent\n",
    "memory_key = \"chat_history\"\n",
    "prompt = OpenAIFunctionsAgent.create_prompt(\n",
    "    system_message=system_message,\n",
    "    extra_prompt_messages=[MessagesPlaceholder(variable_name=memory_key)],\n",
    ")\n",
    "\n",
    "# Define final Agent \n",
    "from langchain.agents import create_openai_functions_agent\n",
    "\n",
    "#agent = OpenAIFunctionsAgent(llm=llm, tools=tools, prompt=prompt)\n",
    "agent = create_openai_functions_agent(llm, tools, prompt)\n",
    "\n",
    "from langchain.agents import AgentExecutor\n",
    "agent_executor = AgentExecutor(\n",
    "    agent=agent,\n",
    "    tools=tools,\n",
    "    return_intermediate_steps=False,\n",
    ")\n",
    "\n",
    "\n",
    "from langchain_community.chat_message_histories import ChatMessageHistory\n",
    "from langchain_core.runnables.history import RunnableWithMessageHistory\n",
    "message_history = ChatMessageHistory()\n",
    "message_history.clear()\n",
    "\n",
    "agent_with_chat_history = RunnableWithMessageHistory(\n",
    "    agent_executor,\n",
    "    lambda session_id: message_history,\n",
    "    input_messages_key=\"input\",\n",
    "    history_messages_key=memory_key,\n",
    ")\n",
    "\n"
   ]
  },
  {
   "cell_type": "code",
   "execution_count": 7,
   "metadata": {},
   "outputs": [
    {
     "data": {
      "text/plain": [
       "{'input': 'Здравейте',\n",
       " 'chat_history': [],\n",
       " 'output': 'Здравейте! Казвам се A1 искам да попитам дали Вашето име е Иван?'}"
      ]
     },
     "execution_count": 7,
     "metadata": {},
     "output_type": "execute_result"
    }
   ],
   "source": [
    "agent_with_chat_history.invoke({'input': 'Здравейте'}, {'configurable': {'session_id': 'asd'}})['output']"
   ]
  }
 ],
 "metadata": {
  "kernelspec": {
   "display_name": "openai",
   "language": "python",
   "name": "python3"
  },
  "language_info": {
   "codemirror_mode": {
    "name": "ipython",
    "version": 3
   },
   "file_extension": ".py",
   "mimetype": "text/x-python",
   "name": "python",
   "nbconvert_exporter": "python",
   "pygments_lexer": "ipython3",
   "version": "3.11.5"
  }
 },
 "nbformat": 4,
 "nbformat_minor": 2
}
